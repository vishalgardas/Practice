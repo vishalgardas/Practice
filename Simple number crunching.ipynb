{
 "cells": [
  {
   "cell_type": "code",
   "execution_count": 1,
   "metadata": {},
   "outputs": [
    {
     "name": "stdout",
     "output_type": "stream",
     "text": [
      "Please enter the Total Number of List Elements: 7\n",
      "Please enter the Value of 1 Element : 82\n",
      "Please enter the Value of 2 Element : 19\n",
      "Please enter the Value of 3 Element : 28\n",
      "Please enter the Value of 4 Element : 38\n",
      "Please enter the Value of 5 Element : 49\n",
      "Please enter the Value of 6 Element : 46\n",
      "Please enter the Value of 7 Element : 87\n",
      "select option\n",
      "1. asc\n",
      "2. desc\n",
      "3. add\n",
      "4. mean \n",
      "5. stdev\n",
      "6. variance \n",
      "7. Exit\n",
      "enter choice 1/2/3/4/5/6/7/8 6\n",
      "variance of numbers is 571.265306122449\n"
     ]
    }
   ],
   "source": [
    "import numpy as np\n",
    "\n",
    "numlist = []\n",
    "\n",
    "number = int(input(\"Please enter the Total Number of List Elements: \"))\n",
    "for i in range(1, number + 1):\n",
    "    value = int(input(\"Please enter the Value of %d Element : \" %i))\n",
    "    numlist.append(value)\n",
    "\n",
    "def asc(numlist):\n",
    "    return numlist.sort()\n",
    "def desc(numlist):\n",
    "    return numlist.sort(reverse=True)\n",
    "\n",
    "    \n",
    "print(\"select option\")\n",
    "print(\"1. asc\")\n",
    "print(\"2. desc\")\n",
    "print(\"3. add\")\n",
    "print(\"4. mean \")\n",
    "print(\"5. stdev\")\n",
    "print(\"6. variance \")\n",
    "print(\"7. Exit\")\n",
    "\n",
    "choice= int(input(\"enter choice 1/2/3/4/5/6/7/8 \"))\n",
    "if choice == 1:\n",
    "    print(\"ascending order of numbers is{}\".format(numlist,asc(numlist)))\n",
    "elif choice == 2:\n",
    "    print(\"desending of numbers is {}\".format(numlist,desc(numlist)))\n",
    "elif choice == 3:\n",
    "    print(\"sum of numbers is {}\".format(np.sum(numlist)))\n",
    "elif choice == 4:\n",
    "    print(\"mean of numbers is {}\".format(np.mean(numlist)))\n",
    "elif choice == 5:\n",
    "    print(\"standard deviation of numbers is {}\".format(np.std(numlist)))\n",
    "elif choice == 6:\n",
    "    print(\"variance of numbers is {}\".format(np.var(numlist)))\n",
    "elif choice == 7:\n",
    "    print(\"Exit\")\n",
    "    "
   ]
  },
  {
   "cell_type": "code",
   "execution_count": null,
   "metadata": {},
   "outputs": [],
   "source": []
  }
 ],
 "metadata": {
  "kernelspec": {
   "display_name": "Python 3",
   "language": "python",
   "name": "python3"
  },
  "language_info": {
   "codemirror_mode": {
    "name": "ipython",
    "version": 3
   },
   "file_extension": ".py",
   "mimetype": "text/x-python",
   "name": "python",
   "nbconvert_exporter": "python",
   "pygments_lexer": "ipython3",
   "version": "3.7.3"
  }
 },
 "nbformat": 4,
 "nbformat_minor": 2
}
